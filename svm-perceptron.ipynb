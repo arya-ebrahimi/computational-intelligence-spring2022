{
  "nbformat": 4,
  "nbformat_minor": 0,
  "metadata": {
    "colab": {
      "provenance": []
    },
    "kernelspec": {
      "name": "python3",
      "display_name": "Python 3"
    },
    "language_info": {
      "name": "python"
    }
  },
  "cells": [
    {
      "cell_type": "markdown",
      "source": [
        "<div dir='rtl'><font face=\"B Mitra\" size=6>\n",
        "دریافت دادگان\n",
        "</font></div>"
      ],
      "metadata": {
        "id": "GUjES4LUTG5q"
      }
    },
    {
      "cell_type": "markdown",
      "source": [
        "<div dir='rtl'><font face=\"B Zar\" size=4>\n",
        "\n",
        "در ابتدا فایل های csv مربوط به دادگان این تمرین را آپلود میکنیم. برای تسهیل این روند این فایلهارا در dropbox آپلود کردیم و در ابتدای notebook آن ها را دانلود میکنیم.\n",
        "</font></div>"
      ],
      "metadata": {
        "id": "oJRnPuFkP73X"
      }
    },
    {
      "cell_type": "code",
      "source": [
        "!wget -O train.csv https://www.dropbox.com/s/f4dzu371hgw1k9t/train.csv?dl=0"
      ],
      "metadata": {
        "id": "HCPMXk1SxMUV",
        "colab": {
          "base_uri": "https://localhost:8080/"
        },
        "outputId": "3c256ff9-fe75-432f-f06e-30f0a732e0f4"
      },
      "execution_count": null,
      "outputs": [
        {
          "output_type": "stream",
          "name": "stdout",
          "text": [
            "--2022-06-02 11:53:33--  https://www.dropbox.com/s/f4dzu371hgw1k9t/train.csv?dl=0\n",
            "Resolving www.dropbox.com (www.dropbox.com)... 162.125.5.18, 2620:100:601d:18::a27d:512\n",
            "Connecting to www.dropbox.com (www.dropbox.com)|162.125.5.18|:443... connected.\n",
            "HTTP request sent, awaiting response... 301 Moved Permanently\n",
            "Location: /s/raw/f4dzu371hgw1k9t/train.csv [following]\n",
            "--2022-06-02 11:53:33--  https://www.dropbox.com/s/raw/f4dzu371hgw1k9t/train.csv\n",
            "Reusing existing connection to www.dropbox.com:443.\n",
            "HTTP request sent, awaiting response... 302 Found\n",
            "Location: https://uc43d1e9274dfcb18e4a87a8af7b.dl.dropboxusercontent.com/cd/0/inline/BmaWlGrzDwnlRgiGKaWar26Be4QfUe-fGK5Dez-g0sr48XqS7kQWFW4JjKXvYebzk278ojCqh5Li_yOx9p9erDux3ELDH0vcn5bQSZGggUsqk87xDO8rvPVA6j9ouWklXx4f0Bl0yYBbsCQfJc39vpTUr9htPNdtucGkUnFlsCNAIg/file# [following]\n",
            "--2022-06-02 11:53:33--  https://uc43d1e9274dfcb18e4a87a8af7b.dl.dropboxusercontent.com/cd/0/inline/BmaWlGrzDwnlRgiGKaWar26Be4QfUe-fGK5Dez-g0sr48XqS7kQWFW4JjKXvYebzk278ojCqh5Li_yOx9p9erDux3ELDH0vcn5bQSZGggUsqk87xDO8rvPVA6j9ouWklXx4f0Bl0yYBbsCQfJc39vpTUr9htPNdtucGkUnFlsCNAIg/file\n",
            "Resolving uc43d1e9274dfcb18e4a87a8af7b.dl.dropboxusercontent.com (uc43d1e9274dfcb18e4a87a8af7b.dl.dropboxusercontent.com)... 162.125.5.15, 2620:100:601d:15::a27d:50f\n",
            "Connecting to uc43d1e9274dfcb18e4a87a8af7b.dl.dropboxusercontent.com (uc43d1e9274dfcb18e4a87a8af7b.dl.dropboxusercontent.com)|162.125.5.15|:443... connected.\n",
            "HTTP request sent, awaiting response... 200 OK\n",
            "Length: 12193089 (12M) [text/plain]\n",
            "Saving to: ‘train.csv’\n",
            "\n",
            "train.csv           100%[===================>]  11.63M  39.0MB/s    in 0.3s    \n",
            "\n",
            "2022-06-02 11:53:34 (39.0 MB/s) - ‘train.csv’ saved [12193089/12193089]\n",
            "\n"
          ]
        }
      ]
    },
    {
      "cell_type": "code",
      "source": [
        "!wget -O test.csv https://www.dropbox.com/s/p5hk56v493psyd5/test.csv?dl=0"
      ],
      "metadata": {
        "id": "Q5brzY_t2Nfm",
        "colab": {
          "base_uri": "https://localhost:8080/"
        },
        "outputId": "41d6f7e2-bb44-4725-f5a4-85ab4e0e12fa"
      },
      "execution_count": null,
      "outputs": [
        {
          "output_type": "stream",
          "name": "stdout",
          "text": [
            "--2022-06-02 11:53:34--  https://www.dropbox.com/s/p5hk56v493psyd5/test.csv?dl=0\n",
            "Resolving www.dropbox.com (www.dropbox.com)... 162.125.5.18, 2620:100:601d:18::a27d:512\n",
            "Connecting to www.dropbox.com (www.dropbox.com)|162.125.5.18|:443... connected.\n",
            "HTTP request sent, awaiting response... 301 Moved Permanently\n",
            "Location: /s/raw/p5hk56v493psyd5/test.csv [following]\n",
            "--2022-06-02 11:53:34--  https://www.dropbox.com/s/raw/p5hk56v493psyd5/test.csv\n",
            "Reusing existing connection to www.dropbox.com:443.\n",
            "HTTP request sent, awaiting response... 302 Found\n",
            "Location: https://ucd469ed37a5be4f1811ff498f34.dl.dropboxusercontent.com/cd/0/inline/BmbLi8-u25xVlVFSxEqWFxxlrCiYTlL4utFY8plYuzeOc9uzS1AL8tbkfC56CaujwwbFixgd8gYpWFMvgl5mvsjEuiuTz2W6hO_FTbJlByRlEVhG1OCylr9RzC8p4Qu5a0ds_4UWkG_QTEhpLnFm-Ftx7dBx1G3pfM-_TjvazwNdXg/file# [following]\n",
            "--2022-06-02 11:53:35--  https://ucd469ed37a5be4f1811ff498f34.dl.dropboxusercontent.com/cd/0/inline/BmbLi8-u25xVlVFSxEqWFxxlrCiYTlL4utFY8plYuzeOc9uzS1AL8tbkfC56CaujwwbFixgd8gYpWFMvgl5mvsjEuiuTz2W6hO_FTbJlByRlEVhG1OCylr9RzC8p4Qu5a0ds_4UWkG_QTEhpLnFm-Ftx7dBx1G3pfM-_TjvazwNdXg/file\n",
            "Resolving ucd469ed37a5be4f1811ff498f34.dl.dropboxusercontent.com (ucd469ed37a5be4f1811ff498f34.dl.dropboxusercontent.com)... 162.125.5.15, 2620:100:601d:15::a27d:50f\n",
            "Connecting to ucd469ed37a5be4f1811ff498f34.dl.dropboxusercontent.com (ucd469ed37a5be4f1811ff498f34.dl.dropboxusercontent.com)|162.125.5.15|:443... connected.\n",
            "HTTP request sent, awaiting response... 200 OK\n",
            "Length: 3037688 (2.9M) [text/plain]\n",
            "Saving to: ‘test.csv’\n",
            "\n",
            "test.csv            100%[===================>]   2.90M  --.-KB/s    in 0.1s    \n",
            "\n",
            "2022-06-02 11:53:35 (22.4 MB/s) - ‘test.csv’ saved [3037688/3037688]\n",
            "\n"
          ]
        }
      ]
    },
    {
      "cell_type": "markdown",
      "source": [
        "<div dir='rtl'><font face=\"B Zar\" size=6>\n",
        "پیش پردازش اطلاعات\n",
        "</font></div>"
      ],
      "metadata": {
        "id": "81lH_6EmTPE2"
      }
    },
    {
      "cell_type": "markdown",
      "source": [
        "<div dir='rtl'><font face=\"B Zar\" size=4>\n",
        "\n",
        "بعد از دریافت فایل های csv، با استفاده از کتابخانه pandas، دادگان را در DataFrame قرار میدهیم. از آنجایی که در سطر های دادگان شاهد مقادیر غیرمجاز و یا مقادیر غیر عددی در ستون های عددی هستیم (NaN) باید سطر های غیرمجاز را حذف کنیم که با استفاده از فانکشن dropna میتوانیم این کار را انجام دهیم.\n",
        "برخی از feature هایمان هم غیر عددی هستند که میتوانیم آنهارا به عددی تبدیل کنیم. برای مثال ویژگی های Gender، Customer Type و ... از این نوع ویژگی ها هستند که با استفاده از قابلیت های پیش پردازش که کتابخانه Scikit Learn در اختیارمان قرار داده است، میتوانیم آنهارا Numerical کنیم.\n",
        "ابتدا لیستی از ویژگی های غیر عددی تهیه میکنیم و با استفاده از Scikit Learn Label Encoder آنها را transform میکنیم به مقادیر عددی. به این صورت که برای مثال برای مقادیر مشابه در یک ستون، یک عدد در نظر میگیرد.\n",
        "راه حل دیگری هم که وجود دارد One Hot Encoding است. ولی در اینجا استفاده از LabelEncoder مقدار accuracy بیشتری نسبت به OneHotEncoding میدهد.\n",
        "با اعمال LabelEncoding روی دادگان به نتایجی که در زیر مشاهده میکنید دست پیدا میکنیم:\n",
        "</font></div>"
      ],
      "metadata": {
        "id": "XFlUJEcGiM6q"
      }
    },
    {
      "cell_type": "code",
      "source": [
        "import pandas as pd\n",
        "import numpy as np\n",
        "\n",
        "train_df = pd.read_csv('train.csv')\n",
        "test_df = pd.read_csv('test.csv')\n",
        "\n",
        "train_df.dropna(inplace=True)\n",
        "test_df.dropna(inplace=True)"
      ],
      "metadata": {
        "id": "BbKqdhwV2dho"
      },
      "execution_count": null,
      "outputs": []
    },
    {
      "cell_type": "code",
      "source": [
        "from sklearn import preprocessing\n",
        "label_encoder = preprocessing.LabelEncoder()\n",
        "\n",
        "non_numerical_columns = ['Gender', 'Customer Type', 'Type of Travel', 'Class', 'satisfaction']\n",
        "\n",
        "for i in non_numerical_columns:\n",
        "    label_encoder.fit(train_df[i])\n",
        "    train_df[i] = label_encoder.transform(train_df[i])\n",
        "\n",
        "    label_encoder.fit(test_df[i])\n",
        "    test_df[i] = label_encoder.transform(test_df[i])\n"
      ],
      "metadata": {
        "id": "Qmbyt9ZzdHuo"
      },
      "execution_count": null,
      "outputs": []
    },
    {
      "cell_type": "code",
      "source": [
        "train_df.head(5)"
      ],
      "metadata": {
        "colab": {
          "base_uri": "https://localhost:8080/",
          "height": 314
        },
        "id": "pXpHX9K4V3zI",
        "outputId": "98567a19-5f51-489a-c7a4-cb705b123385"
      },
      "execution_count": null,
      "outputs": [
        {
          "output_type": "execute_result",
          "data": {
            "text/plain": [
              "   Unnamed: 0      id  Gender  Customer Type  Age  Type of Travel  Class  \\\n",
              "0           0   70172       1              0   13               1      2   \n",
              "1           1    5047       1              1   25               0      0   \n",
              "2           2  110028       0              0   26               0      0   \n",
              "3           3   24026       0              0   25               0      0   \n",
              "4           4  119299       1              0   61               0      0   \n",
              "\n",
              "   Flight Distance  Inflight wifi service  Departure/Arrival time convenient  \\\n",
              "0              460                      3                                  4   \n",
              "1              235                      3                                  2   \n",
              "2             1142                      2                                  2   \n",
              "3              562                      2                                  5   \n",
              "4              214                      3                                  3   \n",
              "\n",
              "   ...  Inflight entertainment  On-board service  Leg room service  \\\n",
              "0  ...                       5                 4                 3   \n",
              "1  ...                       1                 1                 5   \n",
              "2  ...                       5                 4                 3   \n",
              "3  ...                       2                 2                 5   \n",
              "4  ...                       3                 3                 4   \n",
              "\n",
              "   Baggage handling  Checkin service  Inflight service  Cleanliness  \\\n",
              "0                 4                4                 5            5   \n",
              "1                 3                1                 4            1   \n",
              "2                 4                4                 4            5   \n",
              "3                 3                1                 4            2   \n",
              "4                 4                3                 3            3   \n",
              "\n",
              "   Departure Delay in Minutes  Arrival Delay in Minutes  satisfaction  \n",
              "0                          25                      18.0             0  \n",
              "1                           1                       6.0             0  \n",
              "2                           0                       0.0             1  \n",
              "3                          11                       9.0             0  \n",
              "4                           0                       0.0             1  \n",
              "\n",
              "[5 rows x 25 columns]"
            ],
            "text/html": [
              "\n",
              "  <div id=\"df-995bc625-657f-471c-90cf-885412769673\">\n",
              "    <div class=\"colab-df-container\">\n",
              "      <div>\n",
              "<style scoped>\n",
              "    .dataframe tbody tr th:only-of-type {\n",
              "        vertical-align: middle;\n",
              "    }\n",
              "\n",
              "    .dataframe tbody tr th {\n",
              "        vertical-align: top;\n",
              "    }\n",
              "\n",
              "    .dataframe thead th {\n",
              "        text-align: right;\n",
              "    }\n",
              "</style>\n",
              "<table border=\"1\" class=\"dataframe\">\n",
              "  <thead>\n",
              "    <tr style=\"text-align: right;\">\n",
              "      <th></th>\n",
              "      <th>Unnamed: 0</th>\n",
              "      <th>id</th>\n",
              "      <th>Gender</th>\n",
              "      <th>Customer Type</th>\n",
              "      <th>Age</th>\n",
              "      <th>Type of Travel</th>\n",
              "      <th>Class</th>\n",
              "      <th>Flight Distance</th>\n",
              "      <th>Inflight wifi service</th>\n",
              "      <th>Departure/Arrival time convenient</th>\n",
              "      <th>...</th>\n",
              "      <th>Inflight entertainment</th>\n",
              "      <th>On-board service</th>\n",
              "      <th>Leg room service</th>\n",
              "      <th>Baggage handling</th>\n",
              "      <th>Checkin service</th>\n",
              "      <th>Inflight service</th>\n",
              "      <th>Cleanliness</th>\n",
              "      <th>Departure Delay in Minutes</th>\n",
              "      <th>Arrival Delay in Minutes</th>\n",
              "      <th>satisfaction</th>\n",
              "    </tr>\n",
              "  </thead>\n",
              "  <tbody>\n",
              "    <tr>\n",
              "      <th>0</th>\n",
              "      <td>0</td>\n",
              "      <td>70172</td>\n",
              "      <td>1</td>\n",
              "      <td>0</td>\n",
              "      <td>13</td>\n",
              "      <td>1</td>\n",
              "      <td>2</td>\n",
              "      <td>460</td>\n",
              "      <td>3</td>\n",
              "      <td>4</td>\n",
              "      <td>...</td>\n",
              "      <td>5</td>\n",
              "      <td>4</td>\n",
              "      <td>3</td>\n",
              "      <td>4</td>\n",
              "      <td>4</td>\n",
              "      <td>5</td>\n",
              "      <td>5</td>\n",
              "      <td>25</td>\n",
              "      <td>18.0</td>\n",
              "      <td>0</td>\n",
              "    </tr>\n",
              "    <tr>\n",
              "      <th>1</th>\n",
              "      <td>1</td>\n",
              "      <td>5047</td>\n",
              "      <td>1</td>\n",
              "      <td>1</td>\n",
              "      <td>25</td>\n",
              "      <td>0</td>\n",
              "      <td>0</td>\n",
              "      <td>235</td>\n",
              "      <td>3</td>\n",
              "      <td>2</td>\n",
              "      <td>...</td>\n",
              "      <td>1</td>\n",
              "      <td>1</td>\n",
              "      <td>5</td>\n",
              "      <td>3</td>\n",
              "      <td>1</td>\n",
              "      <td>4</td>\n",
              "      <td>1</td>\n",
              "      <td>1</td>\n",
              "      <td>6.0</td>\n",
              "      <td>0</td>\n",
              "    </tr>\n",
              "    <tr>\n",
              "      <th>2</th>\n",
              "      <td>2</td>\n",
              "      <td>110028</td>\n",
              "      <td>0</td>\n",
              "      <td>0</td>\n",
              "      <td>26</td>\n",
              "      <td>0</td>\n",
              "      <td>0</td>\n",
              "      <td>1142</td>\n",
              "      <td>2</td>\n",
              "      <td>2</td>\n",
              "      <td>...</td>\n",
              "      <td>5</td>\n",
              "      <td>4</td>\n",
              "      <td>3</td>\n",
              "      <td>4</td>\n",
              "      <td>4</td>\n",
              "      <td>4</td>\n",
              "      <td>5</td>\n",
              "      <td>0</td>\n",
              "      <td>0.0</td>\n",
              "      <td>1</td>\n",
              "    </tr>\n",
              "    <tr>\n",
              "      <th>3</th>\n",
              "      <td>3</td>\n",
              "      <td>24026</td>\n",
              "      <td>0</td>\n",
              "      <td>0</td>\n",
              "      <td>25</td>\n",
              "      <td>0</td>\n",
              "      <td>0</td>\n",
              "      <td>562</td>\n",
              "      <td>2</td>\n",
              "      <td>5</td>\n",
              "      <td>...</td>\n",
              "      <td>2</td>\n",
              "      <td>2</td>\n",
              "      <td>5</td>\n",
              "      <td>3</td>\n",
              "      <td>1</td>\n",
              "      <td>4</td>\n",
              "      <td>2</td>\n",
              "      <td>11</td>\n",
              "      <td>9.0</td>\n",
              "      <td>0</td>\n",
              "    </tr>\n",
              "    <tr>\n",
              "      <th>4</th>\n",
              "      <td>4</td>\n",
              "      <td>119299</td>\n",
              "      <td>1</td>\n",
              "      <td>0</td>\n",
              "      <td>61</td>\n",
              "      <td>0</td>\n",
              "      <td>0</td>\n",
              "      <td>214</td>\n",
              "      <td>3</td>\n",
              "      <td>3</td>\n",
              "      <td>...</td>\n",
              "      <td>3</td>\n",
              "      <td>3</td>\n",
              "      <td>4</td>\n",
              "      <td>4</td>\n",
              "      <td>3</td>\n",
              "      <td>3</td>\n",
              "      <td>3</td>\n",
              "      <td>0</td>\n",
              "      <td>0.0</td>\n",
              "      <td>1</td>\n",
              "    </tr>\n",
              "  </tbody>\n",
              "</table>\n",
              "<p>5 rows × 25 columns</p>\n",
              "</div>\n",
              "      <button class=\"colab-df-convert\" onclick=\"convertToInteractive('df-995bc625-657f-471c-90cf-885412769673')\"\n",
              "              title=\"Convert this dataframe to an interactive table.\"\n",
              "              style=\"display:none;\">\n",
              "        \n",
              "  <svg xmlns=\"http://www.w3.org/2000/svg\" height=\"24px\"viewBox=\"0 0 24 24\"\n",
              "       width=\"24px\">\n",
              "    <path d=\"M0 0h24v24H0V0z\" fill=\"none\"/>\n",
              "    <path d=\"M18.56 5.44l.94 2.06.94-2.06 2.06-.94-2.06-.94-.94-2.06-.94 2.06-2.06.94zm-11 1L8.5 8.5l.94-2.06 2.06-.94-2.06-.94L8.5 2.5l-.94 2.06-2.06.94zm10 10l.94 2.06.94-2.06 2.06-.94-2.06-.94-.94-2.06-.94 2.06-2.06.94z\"/><path d=\"M17.41 7.96l-1.37-1.37c-.4-.4-.92-.59-1.43-.59-.52 0-1.04.2-1.43.59L10.3 9.45l-7.72 7.72c-.78.78-.78 2.05 0 2.83L4 21.41c.39.39.9.59 1.41.59.51 0 1.02-.2 1.41-.59l7.78-7.78 2.81-2.81c.8-.78.8-2.07 0-2.86zM5.41 20L4 18.59l7.72-7.72 1.47 1.35L5.41 20z\"/>\n",
              "  </svg>\n",
              "      </button>\n",
              "      \n",
              "  <style>\n",
              "    .colab-df-container {\n",
              "      display:flex;\n",
              "      flex-wrap:wrap;\n",
              "      gap: 12px;\n",
              "    }\n",
              "\n",
              "    .colab-df-convert {\n",
              "      background-color: #E8F0FE;\n",
              "      border: none;\n",
              "      border-radius: 50%;\n",
              "      cursor: pointer;\n",
              "      display: none;\n",
              "      fill: #1967D2;\n",
              "      height: 32px;\n",
              "      padding: 0 0 0 0;\n",
              "      width: 32px;\n",
              "    }\n",
              "\n",
              "    .colab-df-convert:hover {\n",
              "      background-color: #E2EBFA;\n",
              "      box-shadow: 0px 1px 2px rgba(60, 64, 67, 0.3), 0px 1px 3px 1px rgba(60, 64, 67, 0.15);\n",
              "      fill: #174EA6;\n",
              "    }\n",
              "\n",
              "    [theme=dark] .colab-df-convert {\n",
              "      background-color: #3B4455;\n",
              "      fill: #D2E3FC;\n",
              "    }\n",
              "\n",
              "    [theme=dark] .colab-df-convert:hover {\n",
              "      background-color: #434B5C;\n",
              "      box-shadow: 0px 1px 3px 1px rgba(0, 0, 0, 0.15);\n",
              "      filter: drop-shadow(0px 1px 2px rgba(0, 0, 0, 0.3));\n",
              "      fill: #FFFFFF;\n",
              "    }\n",
              "  </style>\n",
              "\n",
              "      <script>\n",
              "        const buttonEl =\n",
              "          document.querySelector('#df-995bc625-657f-471c-90cf-885412769673 button.colab-df-convert');\n",
              "        buttonEl.style.display =\n",
              "          google.colab.kernel.accessAllowed ? 'block' : 'none';\n",
              "\n",
              "        async function convertToInteractive(key) {\n",
              "          const element = document.querySelector('#df-995bc625-657f-471c-90cf-885412769673');\n",
              "          const dataTable =\n",
              "            await google.colab.kernel.invokeFunction('convertToInteractive',\n",
              "                                                     [key], {});\n",
              "          if (!dataTable) return;\n",
              "\n",
              "          const docLinkHtml = 'Like what you see? Visit the ' +\n",
              "            '<a target=\"_blank\" href=https://colab.research.google.com/notebooks/data_table.ipynb>data table notebook</a>'\n",
              "            + ' to learn more about interactive tables.';\n",
              "          element.innerHTML = '';\n",
              "          dataTable['output_type'] = 'display_data';\n",
              "          await google.colab.output.renderOutput(dataTable, element);\n",
              "          const docLink = document.createElement('div');\n",
              "          docLink.innerHTML = docLinkHtml;\n",
              "          element.appendChild(docLink);\n",
              "        }\n",
              "      </script>\n",
              "    </div>\n",
              "  </div>\n",
              "  "
            ]
          },
          "metadata": {},
          "execution_count": 30
        }
      ]
    },
    {
      "cell_type": "code",
      "source": [
        "test_df.head(5)"
      ],
      "metadata": {
        "colab": {
          "base_uri": "https://localhost:8080/",
          "height": 314
        },
        "id": "o10hkVC6wscw",
        "outputId": "9522a2fe-f2cf-4800-aeb1-747680a06cf1"
      },
      "execution_count": null,
      "outputs": [
        {
          "output_type": "execute_result",
          "data": {
            "text/plain": [
              "   Unnamed: 0     id  Gender  Customer Type  Age  Type of Travel  Class  \\\n",
              "0           0  19556       0              0   52               0      1   \n",
              "1           1  90035       0              0   36               0      0   \n",
              "2           2  12360       1              1   20               0      1   \n",
              "3           3  77959       1              0   44               0      0   \n",
              "4           4  36875       0              0   49               0      1   \n",
              "\n",
              "   Flight Distance  Inflight wifi service  Departure/Arrival time convenient  \\\n",
              "0              160                      5                                  4   \n",
              "1             2863                      1                                  1   \n",
              "2              192                      2                                  0   \n",
              "3             3377                      0                                  0   \n",
              "4             1182                      2                                  3   \n",
              "\n",
              "   ...  Inflight entertainment  On-board service  Leg room service  \\\n",
              "0  ...                       5                 5                 5   \n",
              "1  ...                       4                 4                 4   \n",
              "2  ...                       2                 4                 1   \n",
              "3  ...                       1                 1                 1   \n",
              "4  ...                       2                 2                 2   \n",
              "\n",
              "   Baggage handling  Checkin service  Inflight service  Cleanliness  \\\n",
              "0                 5                2                 5            5   \n",
              "1                 4                3                 4            5   \n",
              "2                 3                2                 2            2   \n",
              "3                 1                3                 1            4   \n",
              "4                 2                4                 2            4   \n",
              "\n",
              "   Departure Delay in Minutes  Arrival Delay in Minutes  satisfaction  \n",
              "0                          50                      44.0             1  \n",
              "1                           0                       0.0             1  \n",
              "2                           0                       0.0             0  \n",
              "3                           0                       6.0             1  \n",
              "4                           0                      20.0             1  \n",
              "\n",
              "[5 rows x 25 columns]"
            ],
            "text/html": [
              "\n",
              "  <div id=\"df-b9035303-b1da-486c-b9cc-9d0bae1ee202\">\n",
              "    <div class=\"colab-df-container\">\n",
              "      <div>\n",
              "<style scoped>\n",
              "    .dataframe tbody tr th:only-of-type {\n",
              "        vertical-align: middle;\n",
              "    }\n",
              "\n",
              "    .dataframe tbody tr th {\n",
              "        vertical-align: top;\n",
              "    }\n",
              "\n",
              "    .dataframe thead th {\n",
              "        text-align: right;\n",
              "    }\n",
              "</style>\n",
              "<table border=\"1\" class=\"dataframe\">\n",
              "  <thead>\n",
              "    <tr style=\"text-align: right;\">\n",
              "      <th></th>\n",
              "      <th>Unnamed: 0</th>\n",
              "      <th>id</th>\n",
              "      <th>Gender</th>\n",
              "      <th>Customer Type</th>\n",
              "      <th>Age</th>\n",
              "      <th>Type of Travel</th>\n",
              "      <th>Class</th>\n",
              "      <th>Flight Distance</th>\n",
              "      <th>Inflight wifi service</th>\n",
              "      <th>Departure/Arrival time convenient</th>\n",
              "      <th>...</th>\n",
              "      <th>Inflight entertainment</th>\n",
              "      <th>On-board service</th>\n",
              "      <th>Leg room service</th>\n",
              "      <th>Baggage handling</th>\n",
              "      <th>Checkin service</th>\n",
              "      <th>Inflight service</th>\n",
              "      <th>Cleanliness</th>\n",
              "      <th>Departure Delay in Minutes</th>\n",
              "      <th>Arrival Delay in Minutes</th>\n",
              "      <th>satisfaction</th>\n",
              "    </tr>\n",
              "  </thead>\n",
              "  <tbody>\n",
              "    <tr>\n",
              "      <th>0</th>\n",
              "      <td>0</td>\n",
              "      <td>19556</td>\n",
              "      <td>0</td>\n",
              "      <td>0</td>\n",
              "      <td>52</td>\n",
              "      <td>0</td>\n",
              "      <td>1</td>\n",
              "      <td>160</td>\n",
              "      <td>5</td>\n",
              "      <td>4</td>\n",
              "      <td>...</td>\n",
              "      <td>5</td>\n",
              "      <td>5</td>\n",
              "      <td>5</td>\n",
              "      <td>5</td>\n",
              "      <td>2</td>\n",
              "      <td>5</td>\n",
              "      <td>5</td>\n",
              "      <td>50</td>\n",
              "      <td>44.0</td>\n",
              "      <td>1</td>\n",
              "    </tr>\n",
              "    <tr>\n",
              "      <th>1</th>\n",
              "      <td>1</td>\n",
              "      <td>90035</td>\n",
              "      <td>0</td>\n",
              "      <td>0</td>\n",
              "      <td>36</td>\n",
              "      <td>0</td>\n",
              "      <td>0</td>\n",
              "      <td>2863</td>\n",
              "      <td>1</td>\n",
              "      <td>1</td>\n",
              "      <td>...</td>\n",
              "      <td>4</td>\n",
              "      <td>4</td>\n",
              "      <td>4</td>\n",
              "      <td>4</td>\n",
              "      <td>3</td>\n",
              "      <td>4</td>\n",
              "      <td>5</td>\n",
              "      <td>0</td>\n",
              "      <td>0.0</td>\n",
              "      <td>1</td>\n",
              "    </tr>\n",
              "    <tr>\n",
              "      <th>2</th>\n",
              "      <td>2</td>\n",
              "      <td>12360</td>\n",
              "      <td>1</td>\n",
              "      <td>1</td>\n",
              "      <td>20</td>\n",
              "      <td>0</td>\n",
              "      <td>1</td>\n",
              "      <td>192</td>\n",
              "      <td>2</td>\n",
              "      <td>0</td>\n",
              "      <td>...</td>\n",
              "      <td>2</td>\n",
              "      <td>4</td>\n",
              "      <td>1</td>\n",
              "      <td>3</td>\n",
              "      <td>2</td>\n",
              "      <td>2</td>\n",
              "      <td>2</td>\n",
              "      <td>0</td>\n",
              "      <td>0.0</td>\n",
              "      <td>0</td>\n",
              "    </tr>\n",
              "    <tr>\n",
              "      <th>3</th>\n",
              "      <td>3</td>\n",
              "      <td>77959</td>\n",
              "      <td>1</td>\n",
              "      <td>0</td>\n",
              "      <td>44</td>\n",
              "      <td>0</td>\n",
              "      <td>0</td>\n",
              "      <td>3377</td>\n",
              "      <td>0</td>\n",
              "      <td>0</td>\n",
              "      <td>...</td>\n",
              "      <td>1</td>\n",
              "      <td>1</td>\n",
              "      <td>1</td>\n",
              "      <td>1</td>\n",
              "      <td>3</td>\n",
              "      <td>1</td>\n",
              "      <td>4</td>\n",
              "      <td>0</td>\n",
              "      <td>6.0</td>\n",
              "      <td>1</td>\n",
              "    </tr>\n",
              "    <tr>\n",
              "      <th>4</th>\n",
              "      <td>4</td>\n",
              "      <td>36875</td>\n",
              "      <td>0</td>\n",
              "      <td>0</td>\n",
              "      <td>49</td>\n",
              "      <td>0</td>\n",
              "      <td>1</td>\n",
              "      <td>1182</td>\n",
              "      <td>2</td>\n",
              "      <td>3</td>\n",
              "      <td>...</td>\n",
              "      <td>2</td>\n",
              "      <td>2</td>\n",
              "      <td>2</td>\n",
              "      <td>2</td>\n",
              "      <td>4</td>\n",
              "      <td>2</td>\n",
              "      <td>4</td>\n",
              "      <td>0</td>\n",
              "      <td>20.0</td>\n",
              "      <td>1</td>\n",
              "    </tr>\n",
              "  </tbody>\n",
              "</table>\n",
              "<p>5 rows × 25 columns</p>\n",
              "</div>\n",
              "      <button class=\"colab-df-convert\" onclick=\"convertToInteractive('df-b9035303-b1da-486c-b9cc-9d0bae1ee202')\"\n",
              "              title=\"Convert this dataframe to an interactive table.\"\n",
              "              style=\"display:none;\">\n",
              "        \n",
              "  <svg xmlns=\"http://www.w3.org/2000/svg\" height=\"24px\"viewBox=\"0 0 24 24\"\n",
              "       width=\"24px\">\n",
              "    <path d=\"M0 0h24v24H0V0z\" fill=\"none\"/>\n",
              "    <path d=\"M18.56 5.44l.94 2.06.94-2.06 2.06-.94-2.06-.94-.94-2.06-.94 2.06-2.06.94zm-11 1L8.5 8.5l.94-2.06 2.06-.94-2.06-.94L8.5 2.5l-.94 2.06-2.06.94zm10 10l.94 2.06.94-2.06 2.06-.94-2.06-.94-.94-2.06-.94 2.06-2.06.94z\"/><path d=\"M17.41 7.96l-1.37-1.37c-.4-.4-.92-.59-1.43-.59-.52 0-1.04.2-1.43.59L10.3 9.45l-7.72 7.72c-.78.78-.78 2.05 0 2.83L4 21.41c.39.39.9.59 1.41.59.51 0 1.02-.2 1.41-.59l7.78-7.78 2.81-2.81c.8-.78.8-2.07 0-2.86zM5.41 20L4 18.59l7.72-7.72 1.47 1.35L5.41 20z\"/>\n",
              "  </svg>\n",
              "      </button>\n",
              "      \n",
              "  <style>\n",
              "    .colab-df-container {\n",
              "      display:flex;\n",
              "      flex-wrap:wrap;\n",
              "      gap: 12px;\n",
              "    }\n",
              "\n",
              "    .colab-df-convert {\n",
              "      background-color: #E8F0FE;\n",
              "      border: none;\n",
              "      border-radius: 50%;\n",
              "      cursor: pointer;\n",
              "      display: none;\n",
              "      fill: #1967D2;\n",
              "      height: 32px;\n",
              "      padding: 0 0 0 0;\n",
              "      width: 32px;\n",
              "    }\n",
              "\n",
              "    .colab-df-convert:hover {\n",
              "      background-color: #E2EBFA;\n",
              "      box-shadow: 0px 1px 2px rgba(60, 64, 67, 0.3), 0px 1px 3px 1px rgba(60, 64, 67, 0.15);\n",
              "      fill: #174EA6;\n",
              "    }\n",
              "\n",
              "    [theme=dark] .colab-df-convert {\n",
              "      background-color: #3B4455;\n",
              "      fill: #D2E3FC;\n",
              "    }\n",
              "\n",
              "    [theme=dark] .colab-df-convert:hover {\n",
              "      background-color: #434B5C;\n",
              "      box-shadow: 0px 1px 3px 1px rgba(0, 0, 0, 0.15);\n",
              "      filter: drop-shadow(0px 1px 2px rgba(0, 0, 0, 0.3));\n",
              "      fill: #FFFFFF;\n",
              "    }\n",
              "  </style>\n",
              "\n",
              "      <script>\n",
              "        const buttonEl =\n",
              "          document.querySelector('#df-b9035303-b1da-486c-b9cc-9d0bae1ee202 button.colab-df-convert');\n",
              "        buttonEl.style.display =\n",
              "          google.colab.kernel.accessAllowed ? 'block' : 'none';\n",
              "\n",
              "        async function convertToInteractive(key) {\n",
              "          const element = document.querySelector('#df-b9035303-b1da-486c-b9cc-9d0bae1ee202');\n",
              "          const dataTable =\n",
              "            await google.colab.kernel.invokeFunction('convertToInteractive',\n",
              "                                                     [key], {});\n",
              "          if (!dataTable) return;\n",
              "\n",
              "          const docLinkHtml = 'Like what you see? Visit the ' +\n",
              "            '<a target=\"_blank\" href=https://colab.research.google.com/notebooks/data_table.ipynb>data table notebook</a>'\n",
              "            + ' to learn more about interactive tables.';\n",
              "          element.innerHTML = '';\n",
              "          dataTable['output_type'] = 'display_data';\n",
              "          await google.colab.output.renderOutput(dataTable, element);\n",
              "          const docLink = document.createElement('div');\n",
              "          docLink.innerHTML = docLinkHtml;\n",
              "          element.appendChild(docLink);\n",
              "        }\n",
              "      </script>\n",
              "    </div>\n",
              "  </div>\n",
              "  "
            ]
          },
          "metadata": {},
          "execution_count": 31
        }
      ]
    },
    {
      "cell_type": "markdown",
      "source": [
        "<font face=\"B Zar\" size=4>\n",
        "<div dir='rtl'>\n",
        "در گام بعدی پیش پردازش، برای اینکه یادگیری بهتری داشته باشیم، باید پردازشی روی داده ها داشته باشیم که میتوانیم یا داده هارا به یک بازه Scale کنیم با میتوانیم آنهارا Standard کنیم به این معنی که فیچر های یک داده میانگینی تقریبا برابر با ۰ داشته باشند و واریانس آنها هم ۱ باشد.\n",
        "</font></div>\n",
        "\n",
        "\n",
        "<font face=\"B Zar\" size=4>\n",
        "<div dir='rtl'>\n",
        "۳ داده برای train کردن با ۳ scaler متفاوت میسازیم تا بتوانیم عملکرد هر کدام را برای این داده ها مقایسه کنیم.\n",
        "</font></div>\n"
      ],
      "metadata": {
        "id": "y9_M7fnTYLWI"
      }
    },
    {
      "cell_type": "code",
      "source": [
        "y_train = train_df['satisfaction'].values\n",
        "y_test = test_df['satisfaction'].values\n",
        "\n",
        "X_train = train_df.iloc[:, 2:-1].values\n",
        "X_test = test_df.iloc[:, 2:-1].values"
      ],
      "metadata": {
        "id": "tyzGunl1soYk"
      },
      "execution_count": null,
      "outputs": []
    },
    {
      "cell_type": "code",
      "source": [
        "#Standardize\n",
        "s_scaler = preprocessing.StandardScaler()\n",
        "s_scaler.fit(X_train)\n",
        "X_train_standard = s_scaler.transform(X_train)\n",
        "X_test_standard = s_scaler.transform(X_test)"
      ],
      "metadata": {
        "id": "fplk-jG0uBaz"
      },
      "execution_count": null,
      "outputs": []
    },
    {
      "cell_type": "code",
      "source": [
        "#RobustScaler\n",
        "robust_scaler = preprocessing.RobustScaler()\n",
        "robust_scaler.fit(X_train)\n",
        "X_train_robust = robust_scaler.transform(X_train)\n",
        "X_test_robust = robust_scaler.transform(X_test)"
      ],
      "metadata": {
        "id": "aFCCYowoeLOg"
      },
      "execution_count": null,
      "outputs": []
    },
    {
      "cell_type": "code",
      "source": [
        "#MinMaxScaler\n",
        "min_max_scaler = preprocessing.MinMaxScaler()\n",
        "min_max_scaler.fit(X_train)\n",
        "X_train_minmax = min_max_scaler.transform(X_train)\n",
        "X_test_minmax = min_max_scaler.transform(X_test)"
      ],
      "metadata": {
        "id": "M79O-L5UeWz7"
      },
      "execution_count": null,
      "outputs": []
    },
    {
      "cell_type": "markdown",
      "source": [
        "<div dir='rtl'><font face=\"B Mitra\" size=6>\n",
        "یادگیری با استفاده از پرسپترون\n",
        "</font></div>"
      ],
      "metadata": {
        "id": "LjSvcZothBhv"
      }
    },
    {
      "cell_type": "markdown",
      "source": [
        "<div dir='rtl'><font face=\"B Mitra\" size=4>\n",
        "در این قسمت با استفاده از مدل موجود برای پرسپترون در کتابخانه Scikit Learn به یادگیری ۳ نوع داده ی متفاوت با scaling های متفاوت که در قسمت قبل آماده کردیم میپردازیم.\n",
        "</font></div>\n",
        "\n",
        "<div dir='rtl'><font face=\"B Mitra\" size=4>\n",
        "مشاهده میشود که در این قسمت داده هایی که با استفاده از Robust Scaler تهیه شده اند، Accuracy بهتری نسبت به روش های دیگر کسب کرده اند و دلیل این ممکن است بخاطر باشد که این روش از میانه استفاده میکند به جای میانگین و واریانس و در نتیجه برای داده های دور افتاده بهتر عمل میکند.\n",
        "</font></div>"
      ],
      "metadata": {
        "id": "AYZtdpdzjZZw"
      }
    },
    {
      "cell_type": "code",
      "source": [
        "from sklearn.linear_model import Perceptron\n",
        "from sklearn.metrics import accuracy_score"
      ],
      "metadata": {
        "id": "RyCFEfwufoXJ"
      },
      "execution_count": null,
      "outputs": []
    },
    {
      "cell_type": "code",
      "source": [
        "#Perceptron with Standardized data\n",
        "perceptron_model = Perceptron()\n",
        "perceptron_model.fit(X_train_standard, y_train)\n",
        "\n",
        "y_pred_standard = perceptron_model.predict(X_test_standard)\n",
        "accuracy_score(y_test, y_pred_standard)"
      ],
      "metadata": {
        "colab": {
          "base_uri": "https://localhost:8080/"
        },
        "id": "qcwiP3AFxJ7J",
        "outputId": "cf896c17-1c1c-4e00-c5cb-94b83b27f3c2"
      },
      "execution_count": null,
      "outputs": [
        {
          "output_type": "execute_result",
          "data": {
            "text/plain": [
              "0.8270575058896227"
            ]
          },
          "metadata": {},
          "execution_count": 37
        }
      ]
    },
    {
      "cell_type": "code",
      "source": [
        "#Perceptron with Robust scaled data\n",
        "perceptron_model = Perceptron()\n",
        "perceptron_model.fit(X_train_robust, y_train)\n",
        "\n",
        "y_pred_robust = perceptron_model.predict(X_test_robust)\n",
        "accuracy_score(y_test, y_pred_robust)"
      ],
      "metadata": {
        "colab": {
          "base_uri": "https://localhost:8080/"
        },
        "id": "JaZhSV261npl",
        "outputId": "a23eef6b-d785-4c1e-a453-3582c32f0e10"
      },
      "execution_count": null,
      "outputs": [
        {
          "output_type": "execute_result",
          "data": {
            "text/plain": [
              "0.8516973699455451"
            ]
          },
          "metadata": {},
          "execution_count": 38
        }
      ]
    },
    {
      "cell_type": "code",
      "source": [
        "#Perceptron with MinMax scaled data\n",
        "perceptron_model = Perceptron()\n",
        "perceptron_model.fit(X_train_minmax, y_train)\n",
        "\n",
        "y_pred_minmax = perceptron_model.predict(X_test_minmax)\n",
        "accuracy_score(y_test, y_pred_minmax)"
      ],
      "metadata": {
        "colab": {
          "base_uri": "https://localhost:8080/"
        },
        "id": "2svZAf4GfUkK",
        "outputId": "345ff88b-8f6a-4da4-d7c8-d77170bb722f"
      },
      "execution_count": null,
      "outputs": [
        {
          "output_type": "execute_result",
          "data": {
            "text/plain": [
              "0.8484532499131039"
            ]
          },
          "metadata": {},
          "execution_count": 39
        }
      ]
    },
    {
      "cell_type": "markdown",
      "source": [
        "<div dir='rtl'><font face=\"B Mitra\" size=6>\n",
        "Kernelized Perceptron\n",
        "</font></div>"
      ],
      "metadata": {
        "id": "4XTM0ye5s1zB"
      }
    },
    {
      "cell_type": "markdown",
      "source": [
        "<div dir='rtl'><font face=\"B Mitra\" size=4>\n",
        "در این بخش به پیاده سازی kernelized perceptron میپردازیم.\n",
        "یک روش برای این کار استفاده از دوگان مسئله پرسپترون است به این صورت که مسئله را به این صورت نمایش دهیم:\n",
        "میتوانیم وزن هارا به صورت زیر بنویسیم:\n",
        "</font></div>\n"
      ],
      "metadata": {
        "id": "K1jT_QPNs_OZ"
      }
    },
    {
      "cell_type": "markdown",
      "source": [
        "$$ w = \\sum_{i}^{n}\\alpha_i y_i x_i $$\n"
      ],
      "metadata": {
        "id": "MpPEy1zJbhzr"
      }
    },
    {
      "cell_type": "markdown",
      "source": [
        "<div dir='rtl'><font face=\"B Mitra\" size=4>\n",
        "حال اگر در معادله y_hat به جای وزن، عبارت بالا را قرار دهیم خواهیم داشت:\n",
        "</font></div>"
      ],
      "metadata": {
        "id": "-2S0oYUZbrcG"
      }
    },
    {
      "cell_type": "markdown",
      "source": [
        "$$ \\hat{y} = sign(w^Tx) $$\n",
        "$$ = sign (\\sum_{i}^{n}\\alpha_i y_i x_i)^Tx$$\n",
        "$$ = sign \\sum_{i}^{n}\\alpha_i y_i (x_i^Tx)$$\n"
      ],
      "metadata": {
        "id": "PgHHhvcWbw6w"
      }
    },
    {
      "cell_type": "markdown",
      "source": [
        "<div dir='rtl'><font face=\"B Mitra\" size=4>\n",
        "مشاهده میکنیم که کرنل خطی یا همان ضرب داخلی دو بردار در معادله شکل گرفته است. حال میتوانیم به جای این عبارت از کرنلی دیگر استفاده کنیم همانند RBF یا کرنل های polynomial.\n",
        "</font></div>\n",
        "\n",
        "<div dir='rtl'><font face=\"B Mitra\" size=4>\n",
        "اما مشکلی که این روش دارد این است که نیاز به فضای زیاد یا زمان زیاد برای یادگیری دارد.\n",
        "اگر بخواهیم ماتریس کرنل یا gram matrix را در ابتدا یه صورت کامل درست کنیم نیاز به فضای زیادی داریم که رم زیادی نیاز دارد و عملا برای دادگان بزرگ عملی نیست و در روش دیگر اگر بخواهیم در زمان یادگیری پرسپترون سطر مورد نیاز را محاسبه کنیم و کل ماتریس را محاسبه نکنیم در اینجا به زمان زیادی برای محاسبات کرنل نیاز داریم (در پیاده سازی که انجام دادم در ابتدا هر iteration روی تمامی داده ها با استفاده از کرنل گاسین تقریبا ۱۶ ساعت طول میکشد و با استفاده از کرنل polynomial با d=3 تقریبا ۸ ساعت طول میشکد و با استفاده از کتابخانه numba هم این عدد به ۴ ساعت رسید) که خب پروسه یادگیری را بسیار طولانی میکند و عملا استفاده از این روش ها برای داده های بزرگ عملی نیست.\n",
        "</font></div>\n",
        "\n",
        "<div dir='rtl'><font face=\"B Mitra\" size=4>\n",
        "روش دیگری که میتوان استفاده کرد استفاده از Gram Matrix approximation است. این روش ها غالبا بر اساس low-rank decomposition هستند.\n",
        "در این تمرین از روشی به نام Nystroem Method استفاده شده است که در ادامه به توضیح آن میپردازیم.\n",
        "</font></div>"
      ],
      "metadata": {
        "id": "LiNQj0PSb7DQ"
      }
    },
    {
      "cell_type": "markdown",
      "source": [
        "<div dir='rtl'><font face=\"B Mitra\" size=6>\n",
        "Nyström Method\n",
        "</font></div>"
      ],
      "metadata": {
        "id": "yvG8eN5f5xih"
      }
    },
    {
      "cell_type": "markdown",
      "source": [
        "<div dir='rtl'><font face=\"B Mitra\" size=4>\n",
        "در این روش سعی بر این است تا با استفاده از جمع وزن دار، برای یک انتگرال، numerical solution پیدا شود.\n",
        "اگر $k(x, y)$ را تابع کوواریانس x و y در نظر بگیریم خواهیم داشت:\n",
        "</font></div>\n",
        "$$ k(x, y) = \\sum_{i=1}^{N} \\lambda_i 𝜙_i(x) 𝜙_i(y) $$\n",
        "<div dir='rtl'><font face=\"B Mitra\" size=4>\n",
        "که لاندا ها نشاندهنده مقادیر ویژه و فی ها نشاندهنده تابع های ویژه هستند. خواهیم داشت:\n",
        "</font></div>\n",
        "$$ \\int k(y, x) 𝜙_i(x) p(x)dx = λ_i 𝜙_i(y) $$\n",
        "<div dir='rtl'><font face=\"B Mitra\" size=4>\n",
        "که در اینجا p(x) نشاندهنده probability density بردار x میباشد و میتوانیم انتگرال روی آنرا با میانگین تعویض کنیم. و با استفاده از nystroem method خواهیم داشت:\n",
        "</font></div>\n",
        "$$ \\frac{1}{q} \\sum_{k=1}^{q} k(y, x_k) 𝜙_i(x_k) ≈ \\lambda_i 𝜙_i(y) $$\n",
        "<div dir='rtl'><font face=\"B Mitra\" size=4>\n",
        "با استفاده از این تقریب میتوانیم مقدار تقریبی مقادیر ویژه و بردار های ویژه را به دست آوریم.\n",
        "</font></div>"
      ],
      "metadata": {
        "id": "RUKyaaPx7Jup"
      }
    },
    {
      "cell_type": "markdown",
      "source": [
        "<div dir='rtl'><font face=\"B Mitra\" size=6>\n",
        "Gram Matrix approximation\n",
        "</font></div>"
      ],
      "metadata": {
        "id": "HddS7kvyCQWm"
      }
    },
    {
      "cell_type": "markdown",
      "source": [
        "<div dir='rtl'><font face=\"B Mitra\" size=4>\n",
        "فرض میکنیم که ماتریس کرنل rank m باشد که در نتیجه m مقدار ویژه غیر صفر خواهیم داشت و تجزیه مقادیر ویژه از آنجایی که اورتاگونال است را میتوانیم به صورت زیر بنویسیم:\n",
        "</font></div>\n",
        "$$ K=UΔU^T $$\n",
        "<div dir='rtl'><font face=\"B Mitra\" size=4>\n",
        "که U ماتریسی n در m است و دلتا، ماتریسی قطری شامل مقادیر ویژه است. اگر ماتریس کرنل را به ۴ قسمت تقسیم کنیم خواهیم داشت:\n",
        "</font></div>\n",
        "$$ K = \\begin{bmatrix} K_{11}&K_{21}^T \\\\ K_{21}&K_{22} \\end{bmatrix}$$\n",
        "$$ \\\\ $$\n",
        "where $K_{11}$ is $m × m$, $K_{21}$ is $(n-m) × m$ and $K_{22}$ is $n × n$\n",
        "<div dir='rtl'><font face=\"B Mitra\" size=4>\n",
        "حال اگر تجزیه مقادیر ویژه با استفاده از این تقسیم بندی را در نظر بگیریم خواهیم داشت:\n",
        "</font></div>\n",
        "$$ K = \\begin{bmatrix} U_1 \\\\ U_2 \\end{bmatrix} Δ \\begin{bmatrix} U_1 \\\\ U_2 \\end{bmatrix}^T$$\n",
        "$$  $$\n",
        "$$ = \\begin{bmatrix} U_1ΔU_1^T & U_1ΔU_2^T \\\\ U_2ΔU_1^T & U_2ΔU_2^T\\end{bmatrix}$$\n",
        "$$  $$\n",
        "$$⇒ K_{21} = U_2 \\Delta U_1^T ⇒ U_2 = K_{21}U_1Δ^{-1}$$\n",
        "$$  $$\n",
        "$$ K_{22} = U_2ΔU_2^T \\\\ = (K_{21}U_1Δ^{-1})\\Delta(K_{21}U_1Δ^{-1})^T \\\\ = K_{21} K_{11}^{-1} K_{21}^T = (K_{21}K_{11}^{-\\frac{1}{2}})(K_{21}K_{11}^{-\\frac{1}{2}})^T$$\n",
        "$$ $$\n",
        "\n",
        "<div dir='rtl'><font face=\"B Mitra\" size=4>\n",
        "با استفاده از نتیجه به دست آمده برای $K_{22}$ میتوان به feature space جدیدی رسید که اگر آنرا در ترانهاده اش ضرب کنیم به ماتریس کرنل اصلی میرسیم.\n",
        "</font></div>"
      ],
      "metadata": {
        "id": "un5PeK5sCbGL"
      }
    },
    {
      "cell_type": "markdown",
      "source": [
        "$$ 𝚽 = \\begin{bmatrix} K_{11}^{\\frac{1}{2}} \\\\ K_{21}K_{11}^{-\\frac{1}{2}}\\end{bmatrix}$$\n",
        "$$ $$\n",
        "$$ 𝚽𝚽^T = \\begin{bmatrix} K_{11}^{\\frac{1}{2}} \\\\ K_{21}K_{11}^{-\\frac{1}{2}}\\end{bmatrix}\\begin{bmatrix} K_{11}^{\\frac{1}{2}} \\\\ K_{21}K_{11}^{-\\frac{1}{2}}\\end{bmatrix}^T$$\n",
        "$$ $$\n",
        "$$ = \\begin{bmatrix} K_{11} & K_{21}^T \\\\ K_{21} & K_{21}K_{11}^{-1}K_{21}^T\\end{bmatrix} = K$$"
      ],
      "metadata": {
        "id": "KWLpgf2ZO7mW"
      }
    },
    {
      "cell_type": "markdown",
      "source": [
        "<div dir='rtl'><font face=\"B Mitra\" size=4>\n",
        "میتوان این متد را برای کرنل rbf پیاده سازی کرد که در کتابخانه SciKit Learn این کار انجام شده است و برای این تمرین از آن استفاده میکنیم. چیزی که به ما برمیگرداند درواقع همان $𝚽$ است که در بالا محاسبه کردیم.\n",
        "مشاهده میشود که برای داده های استاندارد شده به نتیجه تقریبی ۹۵ درصد رسیدیم که نسبتا نتیجه قابل قبولی است. اگر پارامتر های گاما و تعداد کامپوننت ها یا همان m را هم دست کاری کنیم ممکن است به نتایج بهتری هم دست پیدا کنیم.\n",
        "</font></div>"
      ],
      "metadata": {
        "id": "jI6paH6fQLTx"
      }
    },
    {
      "cell_type": "code",
      "source": [
        "from sklearn.kernel_approximation import Nystroem\n",
        "\n",
        "feature_map_nystroem = Nystroem(kernel='rbf', gamma=0.025, random_state=1, n_components=3200)\n",
        "kernel_perceptron_model = Perceptron(max_iter=5000)"
      ],
      "metadata": {
        "id": "dUKK1SIfRnJN"
      },
      "execution_count": null,
      "outputs": []
    },
    {
      "cell_type": "code",
      "source": [
        "#Kernel Perceptron Using Nystroem and Standardized data\n",
        "\n",
        "X_train_approx = feature_map_nystroem.fit_transform(X_train_standard)\n",
        "X_test_approx = feature_map_nystroem.transform(X_test_standard)\n",
        "\n",
        "kernel_perceptron_model.fit(X_train_approx, y_train)\n",
        "\n",
        "y_kernel_pred = kernel_perceptron_model.predict(X_test_approx)\n",
        "\n",
        "accuracy_score(y_kernel_pred, y_test)"
      ],
      "metadata": {
        "colab": {
          "base_uri": "https://localhost:8080/"
        },
        "id": "3b0uwQmDUxjT",
        "outputId": "e70d02fe-8cc3-4f78-c2b1-02ed40be6df9"
      },
      "execution_count": null,
      "outputs": [
        {
          "output_type": "execute_result",
          "data": {
            "text/plain": [
              "0.9482099409106708"
            ]
          },
          "metadata": {},
          "execution_count": 48
        }
      ]
    },
    {
      "cell_type": "code",
      "source": [
        "#Kernel Perceptron Using Nystroem and Robust data\n",
        "\n",
        "X_train_approx = feature_map_nystroem.fit_transform(X_train_robust)\n",
        "X_test_approx = feature_map_nystroem.transform(X_test_robust)\n",
        "\n",
        "kernel_perceptron_model.fit(X_train_approx, y_train)\n",
        "\n",
        "y_kernel_pred = kernel_perceptron_model.predict(X_test_approx)\n",
        "\n",
        "accuracy_score(y_kernel_pred, y_test)"
      ],
      "metadata": {
        "colab": {
          "base_uri": "https://localhost:8080/"
        },
        "id": "vus4wICnRzT0",
        "outputId": "11e88c18-7a27-4b1b-a2d7-1ed41bafc037"
      },
      "execution_count": null,
      "outputs": [
        {
          "output_type": "execute_result",
          "data": {
            "text/plain": [
              "0.8828254740663499"
            ]
          },
          "metadata": {},
          "execution_count": 49
        }
      ]
    },
    {
      "cell_type": "code",
      "source": [
        "#Kernel Perceptron Using Nystroem and MinMax data\n",
        "\n",
        "X_train_approx = feature_map_nystroem.fit_transform(X_train_minmax)\n",
        "X_test_approx = feature_map_nystroem.transform(X_test_minmax)\n",
        "\n",
        "kernel_perceptron_model.fit(X_train_approx, y_train)\n",
        "\n",
        "y_kernel_pred = kernel_perceptron_model.predict(X_test_approx)\n",
        "\n",
        "accuracy_score(y_kernel_pred, y_test)"
      ],
      "metadata": {
        "colab": {
          "base_uri": "https://localhost:8080/"
        },
        "id": "QMng9ncqRzn9",
        "outputId": "43ee28a0-6e6b-494f-9c76-c8ef27513b26"
      },
      "execution_count": null,
      "outputs": [
        {
          "output_type": "execute_result",
          "data": {
            "text/plain": [
              "0.9100915305294868"
            ]
          },
          "metadata": {},
          "execution_count": 50
        }
      ]
    },
    {
      "cell_type": "code",
      "source": [
        "!jupyter nbconvert --to html svm_perceptron\\(2\\).ipynb\n"
      ],
      "metadata": {
        "colab": {
          "base_uri": "https://localhost:8080/"
        },
        "id": "x7c1MGz7dia8",
        "outputId": "efadc56d-0b02-47ba-874b-777d22e94471"
      },
      "execution_count": null,
      "outputs": [
        {
          "output_type": "stream",
          "name": "stdout",
          "text": [
            "[NbConvertApp] Converting notebook svm_perceptron(2).ipynb to html\n",
            "[NbConvertApp] Writing 322337 bytes to svm_perceptron(2).html\n"
          ]
        }
      ]
    }
  ]
}